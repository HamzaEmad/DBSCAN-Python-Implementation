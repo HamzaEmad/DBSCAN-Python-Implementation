{
 "cells": [
  {
   "cell_type": "code",
   "execution_count": 421,
   "id": "9ef09b93",
   "metadata": {},
   "outputs": [],
   "source": [
    "from sklearn.datasets import make_blobs\n",
    "import matplotlib.pyplot as plt\n",
    "import pandas as pd\n",
    "import numpy as np\n",
    "import random"
   ]
  },
  {
   "cell_type": "code",
   "execution_count": 422,
   "id": "1ef8a04b",
   "metadata": {},
   "outputs": [
    {
     "data": {
      "text/plain": [
       "(5171, 3000)"
      ]
     },
     "execution_count": 422,
     "metadata": {},
     "output_type": "execute_result"
    }
   ],
   "source": [
    "import pandas as pd\n",
    "from sklearn.preprocessing import StandardScaler\n",
    "\n",
    "\n",
    "df = pd.read_csv('emails.csv')\n",
    "# my_data = genfromtxt('emails.csv', delimiter=',')\n",
    "X = df.iloc[1:,1:-1]\n",
    "# Standardizing the features\n",
    "X = StandardScaler().fit_transform(X)\n",
    "X.shape"
   ]
  },
  {
   "cell_type": "code",
   "execution_count": 423,
   "id": "497a441f",
   "metadata": {},
   "outputs": [
    {
     "data": {
      "text/html": [
       "<div>\n",
       "<style scoped>\n",
       "    .dataframe tbody tr th:only-of-type {\n",
       "        vertical-align: middle;\n",
       "    }\n",
       "\n",
       "    .dataframe tbody tr th {\n",
       "        vertical-align: top;\n",
       "    }\n",
       "\n",
       "    .dataframe thead th {\n",
       "        text-align: right;\n",
       "    }\n",
       "</style>\n",
       "<table border=\"1\" class=\"dataframe\">\n",
       "  <thead>\n",
       "    <tr style=\"text-align: right;\">\n",
       "      <th></th>\n",
       "      <th>X</th>\n",
       "      <th>Y</th>\n",
       "    </tr>\n",
       "  </thead>\n",
       "  <tbody>\n",
       "    <tr>\n",
       "      <th>0</th>\n",
       "      <td>7.875806</td>\n",
       "      <td>4.975754</td>\n",
       "    </tr>\n",
       "    <tr>\n",
       "      <th>1</th>\n",
       "      <td>-7.866918</td>\n",
       "      <td>-2.731528</td>\n",
       "    </tr>\n",
       "    <tr>\n",
       "      <th>2</th>\n",
       "      <td>-1.799964</td>\n",
       "      <td>2.856870</td>\n",
       "    </tr>\n",
       "    <tr>\n",
       "      <th>3</th>\n",
       "      <td>-2.060145</td>\n",
       "      <td>2.256114</td>\n",
       "    </tr>\n",
       "    <tr>\n",
       "      <th>4</th>\n",
       "      <td>2.098481</td>\n",
       "      <td>-0.372067</td>\n",
       "    </tr>\n",
       "    <tr>\n",
       "      <th>...</th>\n",
       "      <td>...</td>\n",
       "      <td>...</td>\n",
       "    </tr>\n",
       "    <tr>\n",
       "      <th>5166</th>\n",
       "      <td>-4.534346</td>\n",
       "      <td>-0.290579</td>\n",
       "    </tr>\n",
       "    <tr>\n",
       "      <th>5167</th>\n",
       "      <td>14.667014</td>\n",
       "      <td>3.761554</td>\n",
       "    </tr>\n",
       "    <tr>\n",
       "      <th>5168</th>\n",
       "      <td>-6.895364</td>\n",
       "      <td>-3.556202</td>\n",
       "    </tr>\n",
       "    <tr>\n",
       "      <th>5169</th>\n",
       "      <td>-2.945828</td>\n",
       "      <td>-1.359926</td>\n",
       "    </tr>\n",
       "    <tr>\n",
       "      <th>5170</th>\n",
       "      <td>11.740619</td>\n",
       "      <td>6.120520</td>\n",
       "    </tr>\n",
       "  </tbody>\n",
       "</table>\n",
       "<p>5171 rows × 2 columns</p>\n",
       "</div>"
      ],
      "text/plain": [
       "              X         Y\n",
       "0      7.875806  4.975754\n",
       "1     -7.866918 -2.731528\n",
       "2     -1.799964  2.856870\n",
       "3     -2.060145  2.256114\n",
       "4      2.098481 -0.372067\n",
       "...         ...       ...\n",
       "5166  -4.534346 -0.290579\n",
       "5167  14.667014  3.761554\n",
       "5168  -6.895364 -3.556202\n",
       "5169  -2.945828 -1.359926\n",
       "5170  11.740619  6.120520\n",
       "\n",
       "[5171 rows x 2 columns]"
      ]
     },
     "execution_count": 423,
     "metadata": {},
     "output_type": "execute_result"
    }
   ],
   "source": [
    "from sklearn.decomposition import PCA\n",
    "pca = PCA(n_components=2)\n",
    "principalComponents = pca.fit_transform(X)\n",
    "principalDf = pd.DataFrame(data = principalComponents\n",
    "             , columns = ['X', 'Y'])\n",
    "principalDf"
   ]
  },
  {
   "cell_type": "code",
   "execution_count": 425,
   "id": "262f2fa0",
   "metadata": {
    "scrolled": true
   },
   "outputs": [
    {
     "data": {
      "text/plain": [
       "<matplotlib.collections.PathCollection at 0x1e4999eadd8>"
      ]
     },
     "execution_count": 425,
     "metadata": {},
     "output_type": "execute_result"
    },
    {
     "data": {
      "image/png": "[encoded data removed]",
      "text/plain": [
       "<Figure size 432x288 with 1 Axes>"
      ]
     },
     "metadata": {
      "needs_background": "light"
     },
     "output_type": "display_data"
    }
   ],
   "source": [
    "plt.scatter(principalDf.iloc[:,0],principalDf.iloc[:,1])"
   ]
  },
  {
   "cell_type": "markdown",
   "id": "2f3aecf0",
   "metadata": {},
   "source": [
    "# Implementation with stack"
   ]
  },
  {
   "cell_type": "code",
   "execution_count": 426,
   "id": "8de7fbd2",
   "metadata": {},
   "outputs": [],
   "source": [
    "def check_core_point(eps,minPts, df, index):\n",
    "    #get points from given index\n",
    "    x, y = df.iloc[index]['X']  ,  df.iloc[index]['Y']\n",
    "    \n",
    "    #check available points within radius\n",
    "    temp =  df[((np.abs(x - df['X']) <= eps) & (np.abs(y - df['Y']) <= eps)) & (df.index != index)]\n",
    "    \n",
    "    #check how many points are present within radius\n",
    "    if len(temp) >= minPts:\n",
    "        #return format (dataframe, is_core, is_border, is_noise)\n",
    "        return (temp.index , True, False, False)\n",
    "    \n",
    "    elif (len(temp) < minPts) and len(temp) > 0:\n",
    "        #return format (dataframe, is_core, is_border, is_noise)\n",
    "        return (temp.index , False, True, False)\n",
    "    \n",
    "    elif len(temp) == 0:\n",
    "        #return format (dataframe, is_core, is_border, is_noise)\n",
    "        return (temp.index , False, False, True)"
   ]
  },
  {
   "cell_type": "code",
   "execution_count": 427,
   "id": "0cb05f79",
   "metadata": {},
   "outputs": [],
   "source": [
    "def cluster_with_stack(eps, minPts, df):\n",
    "    \n",
    "    #initiating cluster number\n",
    "    C = 1\n",
    "    #initiating stacks to maintain\n",
    "    current_stack = set()\n",
    "    unvisited = list(df.index)\n",
    "    clusters = []\n",
    "    \n",
    "    \n",
    "    while (len(unvisited) != 0): #run until all points have been visited\n",
    "\n",
    "        #identifier for first point of a cluster\n",
    "        first_point = True\n",
    "        \n",
    "        #choose a random unvisited point\n",
    "        current_stack.add(random.choice(unvisited))\n",
    "        \n",
    "        while len(current_stack) != 0: #run until a cluster is complete\n",
    "            \n",
    "            #pop current point from stack\n",
    "            curr_idx = current_stack.pop()\n",
    "            \n",
    "            #check if point is core, neighbour or border\n",
    "            neigh_indexes, iscore, isborder, isnoise = check_core_point(eps, minPts, df, curr_idx)\n",
    "            \n",
    "            #dealing with an edge case\n",
    "            if (isborder & first_point):\n",
    "                #for first border point, we label it aand its neighbours as noise \n",
    "                clusters.append((curr_idx, 0))\n",
    "                clusters.extend(list(zip(neigh_indexes,[0 for _ in range(len(neigh_indexes))])))\n",
    "                \n",
    "                #label as visited\n",
    "                unvisited.remove(curr_idx)\n",
    "                unvisited = [e for e in unvisited if e not in neigh_indexes]\n",
    "    \n",
    "                continue\n",
    "                \n",
    "            unvisited.remove(curr_idx) #remove point from unvisited list\n",
    "            \n",
    "            \n",
    "            neigh_indexes = set(neigh_indexes) & set(unvisited) #look at only unvisited points\n",
    "            \n",
    "            if iscore: #if current point is a core\n",
    "                first_point = False\n",
    "                \n",
    "                clusters.append((curr_idx,C)) #assign to a cluster\n",
    "                current_stack.update(neigh_indexes) #add neighbours to a stack\n",
    "\n",
    "            elif isborder: #if current point is a border point\n",
    "                clusters.append((curr_idx,C))\n",
    "                \n",
    "                continue\n",
    "\n",
    "            elif isnoise: #if current point is noise\n",
    "                clusters.append((curr_idx, 0))\n",
    "                \n",
    "                continue\n",
    "                \n",
    "        if not first_point:\n",
    "            #increment cluster number\n",
    "            C+=1\n",
    "        \n",
    "    return clusters\n",
    "            "
   ]
  },
  {
   "cell_type": "code",
   "execution_count": 428,
   "id": "f8217642",
   "metadata": {},
   "outputs": [],
   "source": [
    "#radius of the circle defined as 0.6\n",
    "eps = 11\n",
    "#minimum neighbouring points set to 3\n",
    "minPts = 225\n"
   ]
  },
  {
   "cell_type": "code",
   "execution_count": 429,
   "id": "d37f47a7",
   "metadata": {},
   "outputs": [],
   "source": [
    "data = pd.DataFrame(principalDf)\n",
    "clustered = cluster_with_stack(eps, minPts, data)"
   ]
  },
  {
   "cell_type": "code",
   "execution_count": 430,
   "id": "d0d07eaf",
   "metadata": {},
   "outputs": [],
   "source": [
    "idx , cluster = list(zip(*clustered))"
   ]
  },
  {
   "cell_type": "code",
   "execution_count": 431,
   "id": "a07440c2",
   "metadata": {
    "scrolled": true
   },
   "outputs": [],
   "source": [
    "cluster_df = pd.DataFrame(clustered, columns = [\"idx\", \"cluster\"])"
   ]
  },
  {
   "cell_type": "code",
   "execution_count": 432,
   "id": "c9e13e48",
   "metadata": {
    "scrolled": false
   },
   "outputs": [
    {
     "data": {
      "text/plain": [
       "Text(0, 0.5, 'Y')"
      ]
     },
     "execution_count": 432,
     "metadata": {},
     "output_type": "execute_result"
    },
    {
     "data": {
      "image/png": "[encoded data removed]",
      "text/plain": [
       "<Figure size 720x504 with 1 Axes>"
      ]
     },
     "metadata": {
      "needs_background": "light"
     },
     "output_type": "display_data"
    }
   ],
   "source": [
    "plt.figure(figsize=(10,7))\n",
    "for clust in np.unique(cluster):\n",
    "    plt.scatter(principalDf.iloc[cluster_df[\"idx\"][cluster_df[\"cluster\"] == clust].values, 0], principalDf.iloc[cluster_df[\"idx\"][cluster_df[\"cluster\"] == clust].values, 1], s=10, label=f\"Cluster{clust}\")\n",
    "\n",
    "plt.legend([f\"Cluster {clust}\" for clust in np.unique(cluster)], loc =\"lower right\")\n",
    "plt.title('Clustered Data')\n",
    "plt.xlabel('X')\n",
    "plt.ylabel('Y')\n"
   ]
  },
  {
   "cell_type": "markdown",
   "id": "d77a11e7",
   "metadata": {},
   "source": [
    "# Clustering with K-Means"
   ]
  },
  {
   "cell_type": "code",
   "execution_count": 433,
   "id": "96867900",
   "metadata": {},
   "outputs": [],
   "source": [
    "from sklearn.cluster import KMeans\n"
   ]
  },
  {
   "cell_type": "code",
   "execution_count": 434,
   "id": "446a757b",
   "metadata": {},
   "outputs": [],
   "source": [
    "clustering = KMeans(2).fit(principalDf)"
   ]
  },
  {
   "cell_type": "code",
   "execution_count": 435,
   "id": "34b7ab09",
   "metadata": {},
   "outputs": [
    {
     "data": {
      "text/plain": [
       "<matplotlib.legend.Legend at 0x1e499ec9390>"
      ]
     },
     "execution_count": 435,
     "metadata": {},
     "output_type": "execute_result"
    },
    {
     "data": {
      "image/png": "[encoded data removed]",
      "text/plain": [
       "<Figure size 720x504 with 1 Axes>"
      ]
     },
     "metadata": {
      "needs_background": "light"
     },
     "output_type": "display_data"
    }
   ],
   "source": [
    "plt.figure(figsize=(10,7))\n",
    "for clust in np.unique(clustering.labels_):\n",
    "    plt.scatter(principalDf.iloc[clustering.labels_ == clust, 0], principalDf.iloc[clustering.labels_ == clust, 1], s=10, label=f\"Cluster{clust}\")\n",
    "\n",
    "plt.legend([f\"Cluster {clust}\" for clust in np.unique(clustering.labels_)], loc =\"lower right\")"
   ]
  }
 ],
 "metadata": {
  "kernelspec": {
   "display_name": "Python 3",
   "language": "python",
   "name": "python3"
  },
  "language_info": {
   "codemirror_mode": {
    "name": "ipython",
    "version": 3
   },
   "file_extension": ".py",
   "mimetype": "text/x-python",
   "name": "python",
   "nbconvert_exporter": "python",
   "pygments_lexer": "ipython3",
   "version": "3.7.0"
  }
 },
 "nbformat": 4,
 "nbformat_minor": 5
}
